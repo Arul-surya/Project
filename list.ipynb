{
 "cells": [
  {
   "cell_type": "code",
   "execution_count": 3,
   "id": "3bde7c96-e574-42d3-a34d-9c8d01856c55",
   "metadata": {},
   "outputs": [],
   "source": [
    "furit_list=['apple','orange','graps','mango','banana',]"
   ]
  },
  {
   "cell_type": "code",
   "execution_count": 7,
   "id": "6ab74bcb-dd2e-4e7f-9e94-31d1790fd29e",
   "metadata": {},
   "outputs": [
    {
     "data": {
      "text/plain": [
       "['apple', 'orange', 'graps', 'mango', 'banana']"
      ]
     },
     "execution_count": 7,
     "metadata": {},
     "output_type": "execute_result"
    }
   ],
   "source": [
    "furit_list"
   ]
  },
  {
   "cell_type": "code",
   "execution_count": 51,
   "id": "6f4eed75-9f04-4cf3-a93b-32d36bfa7985",
   "metadata": {},
   "outputs": [
    {
     "data": {
      "text/plain": [
       "['apple', 'orange', 'graps']"
      ]
     },
     "execution_count": 51,
     "metadata": {},
     "output_type": "execute_result"
    }
   ],
   "source": [
    "furit_list[0:3]"
   ]
  },
  {
   "cell_type": "code",
   "execution_count": 53,
   "id": "11a9e646-ded0-41ed-8d54-410d0687bcc9",
   "metadata": {},
   "outputs": [
    {
     "data": {
      "text/plain": [
       "['orange', 'graps']"
      ]
     },
     "execution_count": 53,
     "metadata": {},
     "output_type": "execute_result"
    }
   ],
   "source": [
    "furit_list[1:3]"
   ]
  },
  {
   "cell_type": "code",
   "execution_count": 55,
   "id": "b9076b65-0578-4312-9a6f-ff62f4667faf",
   "metadata": {},
   "outputs": [
    {
     "data": {
      "text/plain": [
       "'mango'"
      ]
     },
     "execution_count": 55,
     "metadata": {},
     "output_type": "execute_result"
    }
   ],
   "source": [
    "furit_list[3]"
   ]
  },
  {
   "cell_type": "code",
   "execution_count": 57,
   "id": "0e80b7b1-aa5c-4d2f-ad5b-ef3aa5ddd9b7",
   "metadata": {},
   "outputs": [
    {
     "data": {
      "text/plain": [
       "['mango', 'banana']"
      ]
     },
     "execution_count": 57,
     "metadata": {},
     "output_type": "execute_result"
    }
   ],
   "source": [
    "furit_list[3:]"
   ]
  },
  {
   "cell_type": "code",
   "execution_count": 59,
   "id": "b25d4ca6-5581-4088-88e5-c640d02bf34d",
   "metadata": {},
   "outputs": [
    {
     "data": {
      "text/plain": [
       "['apple', 'orange', 'graps', 'mango', 'banana']"
      ]
     },
     "execution_count": 59,
     "metadata": {},
     "output_type": "execute_result"
    }
   ],
   "source": [
    "furit_list[:]"
   ]
  },
  {
   "cell_type": "code",
   "execution_count": 61,
   "id": "04e7d09c-f7df-46c5-bfd7-5080aeb1b059",
   "metadata": {},
   "outputs": [
    {
     "data": {
      "text/plain": [
       "['graps', 'mango', 'banana']"
      ]
     },
     "execution_count": 61,
     "metadata": {},
     "output_type": "execute_result"
    }
   ],
   "source": [
    "furit_list[2:]"
   ]
  },
  {
   "cell_type": "code",
   "execution_count": null,
   "id": "bfa7391d-1967-4949-b515-19e854e7b912",
   "metadata": {},
   "outputs": [],
   "source": []
  },
  {
   "cell_type": "code",
   "execution_count": null,
   "id": "8e0701bb-a4cf-4670-99bc-d88e1b56811c",
   "metadata": {},
   "outputs": [],
   "source": []
  },
  {
   "cell_type": "code",
   "execution_count": 63,
   "id": "a4e553b5-acac-4005-88cb-c5fb3f158395",
   "metadata": {},
   "outputs": [
    {
     "data": {
      "text/plain": [
       "['apple', 'orange', 'graps', 'mango', 'banana']"
      ]
     },
     "execution_count": 63,
     "metadata": {},
     "output_type": "execute_result"
    }
   ],
   "source": [
    "furit_list"
   ]
  },
  {
   "cell_type": "code",
   "execution_count": 65,
   "id": "1d99bd8a-d63d-4ece-99cd-c1b5c3aed06c",
   "metadata": {},
   "outputs": [
    {
     "data": {
      "text/plain": [
       "'banana'"
      ]
     },
     "execution_count": 65,
     "metadata": {},
     "output_type": "execute_result"
    }
   ],
   "source": [
    "furit_list[-1]"
   ]
  },
  {
   "cell_type": "raw",
   "id": "4ccce9ad-0968-400d-b9fb-924219d54082",
   "metadata": {},
   "source": []
  },
  {
   "cell_type": "code",
   "execution_count": 69,
   "id": "b7119eb2-b272-4cb8-b06a-4d7c96638c31",
   "metadata": {},
   "outputs": [
    {
     "data": {
      "text/plain": [
       "'orange'"
      ]
     },
     "execution_count": 69,
     "metadata": {},
     "output_type": "execute_result"
    }
   ],
   "source": [
    "furit_list[-4]"
   ]
  },
  {
   "cell_type": "code",
   "execution_count": 71,
   "id": "8427cb10-68b5-4af1-82b3-798b1e9288c7",
   "metadata": {},
   "outputs": [
    {
     "data": {
      "text/plain": [
       "['orange', 'graps']"
      ]
     },
     "execution_count": 71,
     "metadata": {},
     "output_type": "execute_result"
    }
   ],
   "source": [
    "furit_list[-4:-2]"
   ]
  },
  {
   "cell_type": "code",
   "execution_count": 73,
   "id": "ec0ccb6d-99c6-4b28-b58c-1eb8202459be",
   "metadata": {},
   "outputs": [
    {
     "data": {
      "text/plain": [
       "['apple', 'orange']"
      ]
     },
     "execution_count": 73,
     "metadata": {},
     "output_type": "execute_result"
    }
   ],
   "source": [
    "furit_list[-5:-3]"
   ]
  },
  {
   "cell_type": "code",
   "execution_count": 75,
   "id": "9e99c33d-918d-407e-ad41-5ace3a30875c",
   "metadata": {},
   "outputs": [
    {
     "data": {
      "text/plain": [
       "['apple', 'orange', 'graps', 'mango', 'banana']"
      ]
     },
     "execution_count": 75,
     "metadata": {},
     "output_type": "execute_result"
    }
   ],
   "source": [
    "furit_list[-5:]"
   ]
  },
  {
   "cell_type": "code",
   "execution_count": 9,
   "id": "a0b94167-9f02-4463-96c9-8237c57b7892",
   "metadata": {},
   "outputs": [
    {
     "data": {
      "text/plain": [
       "['apple', 'orange', 'graps', 'mango', 'banana']"
      ]
     },
     "execution_count": 9,
     "metadata": {},
     "output_type": "execute_result"
    }
   ],
   "source": [
    "furit_list"
   ]
  },
  {
   "cell_type": "code",
   "execution_count": 11,
   "id": "cee23830-db0d-4628-a0ab-fb491b48f716",
   "metadata": {},
   "outputs": [],
   "source": [
    "furit_list.append('papaya')"
   ]
  },
  {
   "cell_type": "code",
   "execution_count": 13,
   "id": "5a85f283-ebf5-4a04-97ce-cb606ed3325a",
   "metadata": {},
   "outputs": [
    {
     "data": {
      "text/plain": [
       "['apple', 'orange', 'graps', 'mango', 'banana', 'papaya']"
      ]
     },
     "execution_count": 13,
     "metadata": {},
     "output_type": "execute_result"
    }
   ],
   "source": [
    "furit_list"
   ]
  },
  {
   "cell_type": "code",
   "execution_count": 22,
   "id": "4f1fe250-4492-4b82-ae93-dbe6ae70082b",
   "metadata": {},
   "outputs": [
    {
     "data": {
      "text/plain": [
       "3"
      ]
     },
     "execution_count": 22,
     "metadata": {},
     "output_type": "execute_result"
    }
   ],
   "source": [
    "furit_list.index('mango')"
   ]
  },
  {
   "cell_type": "code",
   "execution_count": 29,
   "id": "efc1bb3b-570c-48ff-b8c4-2f31b48a3b79",
   "metadata": {},
   "outputs": [
    {
     "data": {
      "text/plain": [
       "'mango'"
      ]
     },
     "execution_count": 29,
     "metadata": {},
     "output_type": "execute_result"
    }
   ],
   "source": [
    "furit_list.pop(-3)"
   ]
  },
  {
   "cell_type": "code",
   "execution_count": 31,
   "id": "a995bb2f-e0c9-4f49-ad93-cce891f73d8c",
   "metadata": {},
   "outputs": [],
   "source": [
    "furit_list.insert(2,'cherry')"
   ]
  },
  {
   "cell_type": "code",
   "execution_count": 35,
   "id": "9212e190-5205-46d7-9a6d-51d19e98d95b",
   "metadata": {},
   "outputs": [
    {
     "data": {
      "text/plain": [
       "['apple', 'orange', 'cherry', 'graps', 'banana', 'papaya']"
      ]
     },
     "execution_count": 35,
     "metadata": {},
     "output_type": "execute_result"
    }
   ],
   "source": [
    "furit_list"
   ]
  },
  {
   "cell_type": "code",
   "execution_count": 38,
   "id": "0e3a505a-3ce5-4f0a-ae86-0578cf33214e",
   "metadata": {},
   "outputs": [],
   "source": [
    "furit_list.extend(['berry','choco',])\n"
   ]
  },
  {
   "cell_type": "code",
   "execution_count": 40,
   "id": "0dce01ca-b72e-4e5a-bf67-c1001059fcdc",
   "metadata": {},
   "outputs": [
    {
     "data": {
      "text/plain": [
       "['apple', 'orange', 'cherry', 'graps', 'banana', 'papaya', 'berry', 'choco']"
      ]
     },
     "execution_count": 40,
     "metadata": {},
     "output_type": "execute_result"
    }
   ],
   "source": [
    "furit_list"
   ]
  },
  {
   "cell_type": "code",
   "execution_count": 42,
   "id": "eff43a51-c244-488c-bb97-9ed248eae318",
   "metadata": {},
   "outputs": [],
   "source": [
    "furit_list.sort()"
   ]
  },
  {
   "cell_type": "code",
   "execution_count": 44,
   "id": "52ed6286-c141-46e4-817d-87e378fe511a",
   "metadata": {},
   "outputs": [
    {
     "data": {
      "text/plain": [
       "['apple', 'banana', 'berry', 'cherry', 'choco', 'graps', 'orange', 'papaya']"
      ]
     },
     "execution_count": 44,
     "metadata": {},
     "output_type": "execute_result"
    }
   ],
   "source": [
    "furit_list"
   ]
  },
  {
   "cell_type": "code",
   "execution_count": null,
   "id": "fd48090d-473f-464f-82ca-fac32a10529b",
   "metadata": {},
   "outputs": [],
   "source": []
  }
 ],
 "metadata": {
  "kernelspec": {
   "display_name": "Python 3 (ipykernel)",
   "language": "python",
   "name": "python3"
  },
  "language_info": {
   "codemirror_mode": {
    "name": "ipython",
    "version": 3
   },
   "file_extension": ".py",
   "mimetype": "text/x-python",
   "name": "python",
   "nbconvert_exporter": "python",
   "pygments_lexer": "ipython3",
   "version": "3.12.4"
  }
 },
 "nbformat": 4,
 "nbformat_minor": 5
}
